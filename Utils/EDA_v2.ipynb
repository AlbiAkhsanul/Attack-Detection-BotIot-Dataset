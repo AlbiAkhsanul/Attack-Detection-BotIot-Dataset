{
 "cells": [
  {
   "cell_type": "code",
   "execution_count": 1,
   "id": "7b435943",
   "metadata": {},
   "outputs": [],
   "source": [
    "import pandas as pd\n",
    "from sklearn.model_selection import train_test_split\n",
    "import numpy as np\n",
    "from sklearn.preprocessing import OneHotEncoder, LabelEncoder, StandardScaler"
   ]
  },
  {
   "cell_type": "code",
   "execution_count": 2,
   "id": "d5b9484a",
   "metadata": {},
   "outputs": [
    {
     "name": "stderr",
     "output_type": "stream",
     "text": [
      "C:\\Users\\albia\\AppData\\Local\\Temp\\ipykernel_19416\\588975991.py:1: DtypeWarning: Columns (5,7) have mixed types. Specify dtype option on import or set low_memory=False.\n",
      "  df = pd.read_csv('../Data/UNSW_2018_IoT_Botnet_Dataset_1.csv')\n"
     ]
    },
    {
     "name": "stdout",
     "output_type": "stream",
     "text": [
      "<class 'pandas.core.frame.DataFrame'>\n",
      "RangeIndex: 999999 entries, 0 to 999998\n",
      "Data columns (total 35 columns):\n",
      " #   Column             Non-Null Count   Dtype  \n",
      "---  ------             --------------   -----  \n",
      " 0   1                  999999 non-null  int64  \n",
      " 1   1526344121.188091  999999 non-null  float64\n",
      " 2   e                  999999 non-null  object \n",
      " 3   arp                999999 non-null  object \n",
      " 4   192.168.100.1      999999 non-null  object \n",
      " 5   Unnamed: 5         999513 non-null  object \n",
      " 6   192.168.100.3      999999 non-null  object \n",
      " 7   Unnamed: 7         999513 non-null  object \n",
      " 8   4                  999999 non-null  int64  \n",
      " 9   240                999999 non-null  int64  \n",
      " 10  CON                999999 non-null  object \n",
      " 11  1526345317.184693  999999 non-null  float64\n",
      " 12  9                  999999 non-null  int64  \n",
      " 13  1195.996582        999999 non-null  float64\n",
      " 14  0.000006           999999 non-null  float64\n",
      " 15  0.000002           999999 non-null  float64\n",
      " 16  Unnamed: 16        0 non-null       float64\n",
      " 17  Unnamed: 17        0 non-null       float64\n",
      " 18  0.000011           999999 non-null  float64\n",
      " 19  0.000004           999999 non-null  float64\n",
      " 20  0.000007           999999 non-null  float64\n",
      " 21  Unnamed: 21        0 non-null       float64\n",
      " 22  Unnamed: 22        0 non-null       float64\n",
      " 23  Unnamed: 23        0 non-null       float64\n",
      " 24  Unnamed: 24        0 non-null       float64\n",
      " 25  2                  999999 non-null  int64  \n",
      " 26  2.1                999999 non-null  int64  \n",
      " 27  120                999999 non-null  int64  \n",
      " 28  120.1              999999 non-null  int64  \n",
      " 29  0.002508           999999 non-null  float64\n",
      " 30  0.000836           999999 non-null  float64\n",
      " 31  0.000836.1         999999 non-null  float64\n",
      " 32  0                  999999 non-null  int64  \n",
      " 33  Normal             999999 non-null  object \n",
      " 34  Normal.1           999999 non-null  object \n",
      "dtypes: float64(17), int64(9), object(9)\n",
      "memory usage: 267.0+ MB\n"
     ]
    },
    {
     "data": {
      "text/html": [
       "<div>\n",
       "<style scoped>\n",
       "    .dataframe tbody tr th:only-of-type {\n",
       "        vertical-align: middle;\n",
       "    }\n",
       "\n",
       "    .dataframe tbody tr th {\n",
       "        vertical-align: top;\n",
       "    }\n",
       "\n",
       "    .dataframe thead th {\n",
       "        text-align: right;\n",
       "    }\n",
       "</style>\n",
       "<table border=\"1\" class=\"dataframe\">\n",
       "  <thead>\n",
       "    <tr style=\"text-align: right;\">\n",
       "      <th></th>\n",
       "      <th>1</th>\n",
       "      <th>1526344121.188091</th>\n",
       "      <th>e</th>\n",
       "      <th>arp</th>\n",
       "      <th>192.168.100.1</th>\n",
       "      <th>Unnamed: 5</th>\n",
       "      <th>192.168.100.3</th>\n",
       "      <th>Unnamed: 7</th>\n",
       "      <th>4</th>\n",
       "      <th>240</th>\n",
       "      <th>...</th>\n",
       "      <th>2</th>\n",
       "      <th>2.1</th>\n",
       "      <th>120</th>\n",
       "      <th>120.1</th>\n",
       "      <th>0.002508</th>\n",
       "      <th>0.000836</th>\n",
       "      <th>0.000836.1</th>\n",
       "      <th>0</th>\n",
       "      <th>Normal</th>\n",
       "      <th>Normal.1</th>\n",
       "    </tr>\n",
       "  </thead>\n",
       "  <tbody>\n",
       "    <tr>\n",
       "      <th>0</th>\n",
       "      <td>2</td>\n",
       "      <td>1.526344e+09</td>\n",
       "      <td>e</td>\n",
       "      <td>tcp</td>\n",
       "      <td>192.168.100.7</td>\n",
       "      <td>139</td>\n",
       "      <td>192.168.100.4</td>\n",
       "      <td>36390</td>\n",
       "      <td>10</td>\n",
       "      <td>680</td>\n",
       "      <td>...</td>\n",
       "      <td>5</td>\n",
       "      <td>5</td>\n",
       "      <td>350</td>\n",
       "      <td>330</td>\n",
       "      <td>0.006190</td>\n",
       "      <td>0.002751</td>\n",
       "      <td>0.002751</td>\n",
       "      <td>0</td>\n",
       "      <td>Normal</td>\n",
       "      <td>Normal</td>\n",
       "    </tr>\n",
       "    <tr>\n",
       "      <th>1</th>\n",
       "      <td>3</td>\n",
       "      <td>1.526344e+09</td>\n",
       "      <td>e</td>\n",
       "      <td>udp</td>\n",
       "      <td>192.168.100.149</td>\n",
       "      <td>51838</td>\n",
       "      <td>27.124.125.250</td>\n",
       "      <td>123</td>\n",
       "      <td>2</td>\n",
       "      <td>180</td>\n",
       "      <td>...</td>\n",
       "      <td>1</td>\n",
       "      <td>1</td>\n",
       "      <td>90</td>\n",
       "      <td>90</td>\n",
       "      <td>20.590960</td>\n",
       "      <td>0.000000</td>\n",
       "      <td>0.000000</td>\n",
       "      <td>0</td>\n",
       "      <td>Normal</td>\n",
       "      <td>Normal</td>\n",
       "    </tr>\n",
       "    <tr>\n",
       "      <th>2</th>\n",
       "      <td>4</td>\n",
       "      <td>1.526344e+09</td>\n",
       "      <td>e</td>\n",
       "      <td>arp</td>\n",
       "      <td>192.168.100.4</td>\n",
       "      <td>NaN</td>\n",
       "      <td>192.168.100.7</td>\n",
       "      <td>NaN</td>\n",
       "      <td>10</td>\n",
       "      <td>510</td>\n",
       "      <td>...</td>\n",
       "      <td>5</td>\n",
       "      <td>5</td>\n",
       "      <td>210</td>\n",
       "      <td>300</td>\n",
       "      <td>0.006189</td>\n",
       "      <td>0.002751</td>\n",
       "      <td>0.002751</td>\n",
       "      <td>0</td>\n",
       "      <td>Normal</td>\n",
       "      <td>Normal</td>\n",
       "    </tr>\n",
       "    <tr>\n",
       "      <th>3</th>\n",
       "      <td>5</td>\n",
       "      <td>1.526344e+09</td>\n",
       "      <td>e</td>\n",
       "      <td>udp</td>\n",
       "      <td>192.168.100.27</td>\n",
       "      <td>58999</td>\n",
       "      <td>192.168.100.1</td>\n",
       "      <td>53</td>\n",
       "      <td>4</td>\n",
       "      <td>630</td>\n",
       "      <td>...</td>\n",
       "      <td>2</td>\n",
       "      <td>2</td>\n",
       "      <td>174</td>\n",
       "      <td>456</td>\n",
       "      <td>0.005264</td>\n",
       "      <td>0.001755</td>\n",
       "      <td>0.001755</td>\n",
       "      <td>0</td>\n",
       "      <td>Normal</td>\n",
       "      <td>Normal</td>\n",
       "    </tr>\n",
       "    <tr>\n",
       "      <th>4</th>\n",
       "      <td>6</td>\n",
       "      <td>1.526344e+09</td>\n",
       "      <td>e</td>\n",
       "      <td>arp</td>\n",
       "      <td>192.168.100.1</td>\n",
       "      <td>NaN</td>\n",
       "      <td>192.168.100.27</td>\n",
       "      <td>NaN</td>\n",
       "      <td>2</td>\n",
       "      <td>120</td>\n",
       "      <td>...</td>\n",
       "      <td>1</td>\n",
       "      <td>1</td>\n",
       "      <td>60</td>\n",
       "      <td>60</td>\n",
       "      <td>2724.795654</td>\n",
       "      <td>0.000000</td>\n",
       "      <td>0.000000</td>\n",
       "      <td>0</td>\n",
       "      <td>Normal</td>\n",
       "      <td>Normal</td>\n",
       "    </tr>\n",
       "  </tbody>\n",
       "</table>\n",
       "<p>5 rows × 35 columns</p>\n",
       "</div>"
      ],
      "text/plain": [
       "   1  1526344121.188091  e  arp    192.168.100.1 Unnamed: 5   192.168.100.3  \\\n",
       "0  2       1.526344e+09  e  tcp    192.168.100.7        139   192.168.100.4   \n",
       "1  3       1.526344e+09  e  udp  192.168.100.149      51838  27.124.125.250   \n",
       "2  4       1.526344e+09  e  arp    192.168.100.4        NaN   192.168.100.7   \n",
       "3  5       1.526344e+09  e  udp   192.168.100.27      58999   192.168.100.1   \n",
       "4  6       1.526344e+09  e  arp    192.168.100.1        NaN  192.168.100.27   \n",
       "\n",
       "  Unnamed: 7   4  240  ...  2  2.1  120  120.1     0.002508  0.000836  \\\n",
       "0      36390  10  680  ...  5    5  350    330     0.006190  0.002751   \n",
       "1        123   2  180  ...  1    1   90     90    20.590960  0.000000   \n",
       "2        NaN  10  510  ...  5    5  210    300     0.006189  0.002751   \n",
       "3         53   4  630  ...  2    2  174    456     0.005264  0.001755   \n",
       "4        NaN   2  120  ...  1    1   60     60  2724.795654  0.000000   \n",
       "\n",
       "   0.000836.1  0  Normal  Normal.1  \n",
       "0    0.002751  0  Normal    Normal  \n",
       "1    0.000000  0  Normal    Normal  \n",
       "2    0.002751  0  Normal    Normal  \n",
       "3    0.001755  0  Normal    Normal  \n",
       "4    0.000000  0  Normal    Normal  \n",
       "\n",
       "[5 rows x 35 columns]"
      ]
     },
     "execution_count": 2,
     "metadata": {},
     "output_type": "execute_result"
    }
   ],
   "source": [
    "df = pd.read_csv('../Data/UNSW_2018_IoT_Botnet_Dataset_1.csv')\n",
    "\n",
    "# Tampilkan info dasar\n",
    "df.info()\n",
    "df.head()"
   ]
  },
  {
   "cell_type": "code",
   "execution_count": null,
   "id": "3ccff639",
   "metadata": {},
   "outputs": [],
   "source": [
    "df.columns = [\n",
    "    \"pkSeqID\", \"stime\", \"flgs\", \"proto\", \"saddr\", \"sport\", \"daddr\", \"dport\",\n",
    "    \"pkts\", \"bytes\", \"state\", \"ltime\", \"seq\", \"dur\", \"mean\", \"stddev\", \"smac\",\n",
    "    \"dmac\", \"sum\", \"min\", \"max\", \"soui\", \"doui\", \"sco\", \"dco\", \"spkts\", \"dpkts\",\n",
    "    \"sbytes\", \"dbytes\", \"rate\", \"srate\", \"drate\", \"label\", \"category\", \"subcategory\"\n",
    "]"
   ]
  },
  {
   "cell_type": "code",
   "execution_count": 3,
   "id": "60ddc331",
   "metadata": {},
   "outputs": [],
   "source": [
    "# Hapus spasi di awal/akhir nama kolom\n",
    "df.columns = df.columns.str.strip()"
   ]
  },
  {
   "cell_type": "code",
   "execution_count": 4,
   "id": "ff8d2632",
   "metadata": {},
   "outputs": [],
   "source": [
    "df.drop(columns=[\"smac\", \"dmac\", \"soui\", \"doui\", \"sco\", \"dco\"], inplace=True)"
   ]
  },
  {
   "cell_type": "code",
   "execution_count": 5,
   "id": "6258fd24",
   "metadata": {},
   "outputs": [],
   "source": [
    "df.drop_duplicates(inplace=True)"
   ]
  },
  {
   "cell_type": "code",
   "execution_count": 6,
   "id": "14d2e648",
   "metadata": {},
   "outputs": [],
   "source": [
    "df.dropna(subset=[\"sport\", \"dport\"], inplace=True)"
   ]
  },
  {
   "cell_type": "code",
   "execution_count": 7,
   "id": "3d6e65d9",
   "metadata": {},
   "outputs": [],
   "source": [
    "target = \"attack\"  \n",
    "X = df.drop(columns=[target])\n",
    "y = df[target]"
   ]
  },
  {
   "cell_type": "code",
   "execution_count": 8,
   "id": "b9945df8",
   "metadata": {},
   "outputs": [
    {
     "name": "stdout",
     "output_type": "stream",
     "text": [
      "attack\n",
      "1    997753\n",
      "0      1760\n",
      "Name: count, dtype: int64\n"
     ]
    }
   ],
   "source": [
    "print(y.value_counts())"
   ]
  },
  {
   "cell_type": "code",
   "execution_count": 9,
   "id": "0a8fabbb",
   "metadata": {},
   "outputs": [],
   "source": [
    "high_card_cat = [\"saddr\", \"daddr\", \"sport\", \"dport\"]\n",
    "for col in high_card_cat:\n",
    "    le = LabelEncoder()\n",
    "    X[col] = le.fit_transform(X[col].astype(str))"
   ]
  },
  {
   "cell_type": "code",
   "execution_count": 10,
   "id": "457c8d5d",
   "metadata": {},
   "outputs": [],
   "source": [
    "low_card_cat = [\"proto\", \"state\", \"flgs\", \"category\", \"subcategory\"]\n",
    "\n",
    "ohe = OneHotEncoder(sparse_output=False, handle_unknown=\"ignore\")\n",
    "ohe_result = ohe.fit_transform(X[low_card_cat])\n",
    "ohe_cols = ohe.get_feature_names_out(low_card_cat)\n",
    "\n",
    "X_ohe = pd.DataFrame(ohe_result, columns=ohe_cols, index=X.index)"
   ]
  },
  {
   "cell_type": "code",
   "execution_count": 11,
   "id": "bc52f86b",
   "metadata": {},
   "outputs": [],
   "source": [
    "num_cols = X.select_dtypes(include=[\"int64\", \"float64\"]).columns.tolist()\n",
    "\n",
    "# Buang high-cardinality categorical dari numerik\n",
    "num_cols = [col for col in num_cols if col not in high_card_cat]\n",
    "\n",
    "scaler = StandardScaler()\n",
    "scaled_result = scaler.fit_transform(X[num_cols])\n",
    "\n",
    "X_scaled = pd.DataFrame(scaled_result, columns=num_cols, index=X.index)"
   ]
  },
  {
   "cell_type": "code",
   "execution_count": 13,
   "id": "21fa0ce3",
   "metadata": {},
   "outputs": [],
   "source": [
    "X_processed = pd.concat([X_scaled, X[high_card_cat], X_ohe], axis=1)"
   ]
  },
  {
   "cell_type": "code",
   "execution_count": 14,
   "id": "892ceebb",
   "metadata": {},
   "outputs": [],
   "source": [
    "final_df = pd.concat([X_processed, y], axis=1)"
   ]
  },
  {
   "cell_type": "code",
   "execution_count": 15,
   "id": "fa0c3249",
   "metadata": {},
   "outputs": [
    {
     "name": "stdout",
     "output_type": "stream",
     "text": [
      "<class 'pandas.core.frame.DataFrame'>\n",
      "Index: 999513 entries, 1 to 999999\n",
      "Data columns (total 53 columns):\n",
      " #   Column                    Non-Null Count   Dtype  \n",
      "---  ------                    --------------   -----  \n",
      " 0   pkSeqID                   999513 non-null  float64\n",
      " 1   stime                     999513 non-null  float64\n",
      " 2   pkts                      999513 non-null  float64\n",
      " 3   bytes                     999513 non-null  float64\n",
      " 4   ltime                     999513 non-null  float64\n",
      " 5   seq                       999513 non-null  float64\n",
      " 6   dur                       999513 non-null  float64\n",
      " 7   mean                      999513 non-null  float64\n",
      " 8   stddev                    999513 non-null  float64\n",
      " 9   sum                       999513 non-null  float64\n",
      " 10  min                       999513 non-null  float64\n",
      " 11  max                       999513 non-null  float64\n",
      " 12  spkts                     999513 non-null  float64\n",
      " 13  dpkts                     999513 non-null  float64\n",
      " 14  sbytes                    999513 non-null  float64\n",
      " 15  dbytes                    999513 non-null  float64\n",
      " 16  rate                      999513 non-null  float64\n",
      " 17  srate                     999513 non-null  float64\n",
      " 18  drate                     999513 non-null  float64\n",
      " 19  saddr                     999513 non-null  int64  \n",
      " 20  daddr                     999513 non-null  int64  \n",
      " 21  sport                     999513 non-null  int64  \n",
      " 22  dport                     999513 non-null  int64  \n",
      " 23  proto_icmp                999513 non-null  float64\n",
      " 24  proto_ipv6-icmp           999513 non-null  float64\n",
      " 25  proto_tcp                 999513 non-null  float64\n",
      " 26  proto_udp                 999513 non-null  float64\n",
      " 27  state_CON                 999513 non-null  float64\n",
      " 28  state_ECO                 999513 non-null  float64\n",
      " 29  state_FIN                 999513 non-null  float64\n",
      " 30  state_INT                 999513 non-null  float64\n",
      " 31  state_NRS                 999513 non-null  float64\n",
      " 32  state_PAR                 999513 non-null  float64\n",
      " 33  state_REQ                 999513 non-null  float64\n",
      " 34  state_RST                 999513 non-null  float64\n",
      " 35  state_URP                 999513 non-null  float64\n",
      " 36  flgs_e                    999513 non-null  float64\n",
      " 37  flgs_e    F               999513 non-null  float64\n",
      " 38  flgs_e   t                999513 non-null  float64\n",
      " 39  flgs_e  D                 999513 non-null  float64\n",
      " 40  flgs_e &                  999513 non-null  float64\n",
      " 41  flgs_e *                  999513 non-null  float64\n",
      " 42  flgs_e d                  999513 non-null  float64\n",
      " 43  flgs_e dD                 999513 non-null  float64\n",
      " 44  flgs_e g                  999513 non-null  float64\n",
      " 45  flgs_e r                  999513 non-null  float64\n",
      " 46  flgs_e s                  999513 non-null  float64\n",
      " 47  flgs_eU                   999513 non-null  float64\n",
      " 48  category_Normal           999513 non-null  float64\n",
      " 49  category_Reconnaissance   999513 non-null  float64\n",
      " 50  subcategory_Normal        999513 non-null  float64\n",
      " 51  subcategory_Service_Scan  999513 non-null  float64\n",
      " 52  attack                    999513 non-null  int64  \n",
      "dtypes: float64(48), int64(5)\n",
      "memory usage: 411.8 MB\n"
     ]
    }
   ],
   "source": [
    "final_df.info()"
   ]
  },
  {
   "cell_type": "code",
   "execution_count": 16,
   "id": "53672f1c",
   "metadata": {},
   "outputs": [
    {
     "name": "stdout",
     "output_type": "stream",
     "text": [
      "Series([], dtype: int64)\n"
     ]
    }
   ],
   "source": [
    "missing = final_df.isnull().sum()\n",
    "print(missing[missing > 0])"
   ]
  },
  {
   "cell_type": "code",
   "execution_count": 17,
   "id": "c5520def",
   "metadata": {},
   "outputs": [
    {
     "data": {
      "text/html": [
       "<div>\n",
       "<style scoped>\n",
       "    .dataframe tbody tr th:only-of-type {\n",
       "        vertical-align: middle;\n",
       "    }\n",
       "\n",
       "    .dataframe tbody tr th {\n",
       "        vertical-align: top;\n",
       "    }\n",
       "\n",
       "    .dataframe thead th {\n",
       "        text-align: right;\n",
       "    }\n",
       "</style>\n",
       "<table border=\"1\" class=\"dataframe\">\n",
       "  <thead>\n",
       "    <tr style=\"text-align: right;\">\n",
       "      <th></th>\n",
       "      <th>pkSeqID</th>\n",
       "      <th>stime</th>\n",
       "      <th>pkts</th>\n",
       "      <th>bytes</th>\n",
       "      <th>ltime</th>\n",
       "      <th>seq</th>\n",
       "      <th>dur</th>\n",
       "      <th>mean</th>\n",
       "      <th>stddev</th>\n",
       "      <th>sum</th>\n",
       "      <th>...</th>\n",
       "      <th>flgs_e dD</th>\n",
       "      <th>flgs_e g</th>\n",
       "      <th>flgs_e r</th>\n",
       "      <th>flgs_e s</th>\n",
       "      <th>flgs_eU</th>\n",
       "      <th>category_Normal</th>\n",
       "      <th>category_Reconnaissance</th>\n",
       "      <th>subcategory_Normal</th>\n",
       "      <th>subcategory_Service_Scan</th>\n",
       "      <th>attack</th>\n",
       "    </tr>\n",
       "  </thead>\n",
       "  <tbody>\n",
       "    <tr>\n",
       "      <th>1</th>\n",
       "      <td>-1.732297</td>\n",
       "      <td>-2.482046</td>\n",
       "      <td>0.004015</td>\n",
       "      <td>-0.009365</td>\n",
       "      <td>-2.474600</td>\n",
       "      <td>-1.148851</td>\n",
       "      <td>38.399038</td>\n",
       "      <td>-0.172964</td>\n",
       "      <td>-0.040363</td>\n",
       "      <td>-0.015883</td>\n",
       "      <td>...</td>\n",
       "      <td>0.0</td>\n",
       "      <td>0.0</td>\n",
       "      <td>0.0</td>\n",
       "      <td>0.0</td>\n",
       "      <td>0.0</td>\n",
       "      <td>1.0</td>\n",
       "      <td>0.0</td>\n",
       "      <td>1.0</td>\n",
       "      <td>0.0</td>\n",
       "      <td>0</td>\n",
       "    </tr>\n",
       "    <tr>\n",
       "      <th>2</th>\n",
       "      <td>-1.732294</td>\n",
       "      <td>-2.482026</td>\n",
       "      <td>-0.012164</td>\n",
       "      <td>-0.010411</td>\n",
       "      <td>-2.482075</td>\n",
       "      <td>-1.148839</td>\n",
       "      <td>-0.041588</td>\n",
       "      <td>0.065206</td>\n",
       "      <td>-0.040468</td>\n",
       "      <td>-0.013431</td>\n",
       "      <td>...</td>\n",
       "      <td>0.0</td>\n",
       "      <td>0.0</td>\n",
       "      <td>0.0</td>\n",
       "      <td>0.0</td>\n",
       "      <td>0.0</td>\n",
       "      <td>1.0</td>\n",
       "      <td>0.0</td>\n",
       "      <td>1.0</td>\n",
       "      <td>0.0</td>\n",
       "      <td>0</td>\n",
       "    </tr>\n",
       "    <tr>\n",
       "      <th>4</th>\n",
       "      <td>-1.732287</td>\n",
       "      <td>-2.481636</td>\n",
       "      <td>-0.008119</td>\n",
       "      <td>-0.009470</td>\n",
       "      <td>-2.478748</td>\n",
       "      <td>-1.148804</td>\n",
       "      <td>15.026018</td>\n",
       "      <td>0.310260</td>\n",
       "      <td>1.010213</td>\n",
       "      <td>-0.005917</td>\n",
       "      <td>...</td>\n",
       "      <td>0.0</td>\n",
       "      <td>0.0</td>\n",
       "      <td>0.0</td>\n",
       "      <td>0.0</td>\n",
       "      <td>0.0</td>\n",
       "      <td>1.0</td>\n",
       "      <td>0.0</td>\n",
       "      <td>1.0</td>\n",
       "      <td>0.0</td>\n",
       "      <td>0</td>\n",
       "    </tr>\n",
       "    <tr>\n",
       "      <th>7</th>\n",
       "      <td>-1.732276</td>\n",
       "      <td>-2.481514</td>\n",
       "      <td>-0.012164</td>\n",
       "      <td>-0.010427</td>\n",
       "      <td>-2.481550</td>\n",
       "      <td>-1.148757</td>\n",
       "      <td>0.023230</td>\n",
       "      <td>-0.173102</td>\n",
       "      <td>-0.040468</td>\n",
       "      <td>-0.015890</td>\n",
       "      <td>...</td>\n",
       "      <td>0.0</td>\n",
       "      <td>0.0</td>\n",
       "      <td>0.0</td>\n",
       "      <td>0.0</td>\n",
       "      <td>0.0</td>\n",
       "      <td>1.0</td>\n",
       "      <td>0.0</td>\n",
       "      <td>1.0</td>\n",
       "      <td>0.0</td>\n",
       "      <td>0</td>\n",
       "    </tr>\n",
       "    <tr>\n",
       "      <th>8</th>\n",
       "      <td>-1.732273</td>\n",
       "      <td>-2.481504</td>\n",
       "      <td>-0.012164</td>\n",
       "      <td>-0.010427</td>\n",
       "      <td>-2.481540</td>\n",
       "      <td>-1.148488</td>\n",
       "      <td>0.023257</td>\n",
       "      <td>-0.173102</td>\n",
       "      <td>-0.040468</td>\n",
       "      <td>-0.015890</td>\n",
       "      <td>...</td>\n",
       "      <td>0.0</td>\n",
       "      <td>0.0</td>\n",
       "      <td>0.0</td>\n",
       "      <td>0.0</td>\n",
       "      <td>0.0</td>\n",
       "      <td>1.0</td>\n",
       "      <td>0.0</td>\n",
       "      <td>1.0</td>\n",
       "      <td>0.0</td>\n",
       "      <td>0</td>\n",
       "    </tr>\n",
       "  </tbody>\n",
       "</table>\n",
       "<p>5 rows × 53 columns</p>\n",
       "</div>"
      ],
      "text/plain": [
       "    pkSeqID     stime      pkts     bytes     ltime       seq        dur  \\\n",
       "1 -1.732297 -2.482046  0.004015 -0.009365 -2.474600 -1.148851  38.399038   \n",
       "2 -1.732294 -2.482026 -0.012164 -0.010411 -2.482075 -1.148839  -0.041588   \n",
       "4 -1.732287 -2.481636 -0.008119 -0.009470 -2.478748 -1.148804  15.026018   \n",
       "7 -1.732276 -2.481514 -0.012164 -0.010427 -2.481550 -1.148757   0.023230   \n",
       "8 -1.732273 -2.481504 -0.012164 -0.010427 -2.481540 -1.148488   0.023257   \n",
       "\n",
       "       mean    stddev       sum  ...  flgs_e dD  flgs_e g  flgs_e r  flgs_e s  \\\n",
       "1 -0.172964 -0.040363 -0.015883  ...        0.0       0.0       0.0       0.0   \n",
       "2  0.065206 -0.040468 -0.013431  ...        0.0       0.0       0.0       0.0   \n",
       "4  0.310260  1.010213 -0.005917  ...        0.0       0.0       0.0       0.0   \n",
       "7 -0.173102 -0.040468 -0.015890  ...        0.0       0.0       0.0       0.0   \n",
       "8 -0.173102 -0.040468 -0.015890  ...        0.0       0.0       0.0       0.0   \n",
       "\n",
       "   flgs_eU  category_Normal  category_Reconnaissance  subcategory_Normal  \\\n",
       "1      0.0              1.0                      0.0                 1.0   \n",
       "2      0.0              1.0                      0.0                 1.0   \n",
       "4      0.0              1.0                      0.0                 1.0   \n",
       "7      0.0              1.0                      0.0                 1.0   \n",
       "8      0.0              1.0                      0.0                 1.0   \n",
       "\n",
       "   subcategory_Service_Scan  attack  \n",
       "1                       0.0       0  \n",
       "2                       0.0       0  \n",
       "4                       0.0       0  \n",
       "7                       0.0       0  \n",
       "8                       0.0       0  \n",
       "\n",
       "[5 rows x 53 columns]"
      ]
     },
     "execution_count": 17,
     "metadata": {},
     "output_type": "execute_result"
    }
   ],
   "source": [
    "final_df.head()"
   ]
  },
  {
   "cell_type": "code",
   "execution_count": 20,
   "id": "ba49172e",
   "metadata": {},
   "outputs": [
    {
     "name": "stdout",
     "output_type": "stream",
     "text": [
      "saddr\n",
      "0     262580\n",
      "1     250513\n",
      "2     230126\n",
      "3     226163\n",
      "5      17170\n",
      "8       5088\n",
      "11      3948\n",
      "10      3672\n",
      "7         79\n",
      "4         42\n",
      "6         37\n",
      "19        16\n",
      "12        13\n",
      "15        11\n",
      "13        10\n",
      "17        10\n",
      "14        10\n",
      "18         9\n",
      "16         9\n",
      "9          7\n",
      "Name: count, dtype: int64\n"
     ]
    }
   ],
   "source": [
    "print(final_df['saddr'].value_counts())"
   ]
  },
  {
   "cell_type": "code",
   "execution_count": 21,
   "id": "2a19c8a8",
   "metadata": {},
   "outputs": [
    {
     "name": "stdout",
     "output_type": "stream",
     "text": [
      "daddr\n",
      "26     882445\n",
      "29      34848\n",
      "32      27141\n",
      "31      24595\n",
      "21       7392\n",
      "        ...  \n",
      "74          1\n",
      "0           1\n",
      "128         1\n",
      "140         1\n",
      "143         1\n",
      "Name: count, Length: 171, dtype: int64\n"
     ]
    }
   ],
   "source": [
    "print(final_df['daddr'].value_counts())"
   ]
  },
  {
   "cell_type": "code",
   "execution_count": 22,
   "id": "05fbc19a",
   "metadata": {},
   "outputs": [
    {
     "name": "stdout",
     "output_type": "stream",
     "text": [
      "sport\n",
      "32670    65542\n",
      "35423    65536\n",
      "35582    65536\n",
      "34559    64093\n",
      "37780    63481\n",
      "         ...  \n",
      "2311         1\n",
      "3893         1\n",
      "2309         1\n",
      "3891         1\n",
      "30815        1\n",
      "Name: count, Length: 47122, dtype: int64\n"
     ]
    }
   ],
   "source": [
    "print(final_df['sport'].value_counts())"
   ]
  },
  {
   "cell_type": "code",
   "execution_count": 23,
   "id": "32cffce7",
   "metadata": {},
   "outputs": [
    {
     "name": "stdout",
     "output_type": "stream",
     "text": [
      "dport\n",
      "17632     12675\n",
      "1058       6180\n",
      "17574      6059\n",
      "1059       5666\n",
      "44806      4478\n",
      "          ...  \n",
      "69962         1\n",
      "18737         1\n",
      "112388        1\n",
      "25850         1\n",
      "65545         1\n",
      "Name: count, Length: 114001, dtype: int64\n"
     ]
    }
   ],
   "source": [
    "print(final_df['dport'].value_counts())"
   ]
  },
  {
   "cell_type": "code",
   "execution_count": 24,
   "id": "8b885dd1",
   "metadata": {},
   "outputs": [],
   "source": [
    "final_df.to_csv(\"../Data/Bot_IoT_processed.csv\", index=False)"
   ]
  },
  {
   "cell_type": "code",
   "execution_count": 25,
   "id": "37e7adb3",
   "metadata": {},
   "outputs": [
    {
     "name": "stdout",
     "output_type": "stream",
     "text": [
      "Preprocessing selesai. File disimpan sebagai Bot_IoT_processed.csv\n",
      "Shape sebelum: (999513, 29)\n",
      "Shape sesudah: (999513, 53)\n"
     ]
    }
   ],
   "source": [
    "print(\"Preprocessing selesai. File disimpan sebagai Bot_IoT_processed.csv\")\n",
    "print(\"Shape sebelum:\", df.shape)\n",
    "print(\"Shape sesudah:\", final_df.shape)"
   ]
  },
  {
   "cell_type": "code",
   "execution_count": 26,
   "id": "0999cfb9",
   "metadata": {},
   "outputs": [
    {
     "data": {
      "text/plain": [
       "['../Data/scaler.pkl']"
      ]
     },
     "execution_count": 26,
     "metadata": {},
     "output_type": "execute_result"
    }
   ],
   "source": [
    "import joblib\n",
    "\n",
    "# simpan scaler ke file\n",
    "joblib.dump(scaler, \"../Data/scaler.pkl\")"
   ]
  }
 ],
 "metadata": {
  "kernelspec": {
   "display_name": "pytorch_env",
   "language": "python",
   "name": "python3"
  },
  "language_info": {
   "codemirror_mode": {
    "name": "ipython",
    "version": 3
   },
   "file_extension": ".py",
   "mimetype": "text/x-python",
   "name": "python",
   "nbconvert_exporter": "python",
   "pygments_lexer": "ipython3",
   "version": "3.10.16"
  }
 },
 "nbformat": 4,
 "nbformat_minor": 5
}
